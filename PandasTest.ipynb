{
 "cells": [
  {
   "cell_type": "markdown",
   "metadata": {},
   "source": [
    "# Test for Pandas"
   ]
  },
  {
   "cell_type": "code",
   "execution_count": 11,
   "metadata": {},
   "outputs": [],
   "source": [
    "import pandas as pd"
   ]
  },
  {
   "cell_type": "code",
   "execution_count": 12,
   "metadata": {},
   "outputs": [],
   "source": [
    "d=pd.Series(range(20))"
   ]
  },
  {
   "cell_type": "code",
   "execution_count": 13,
   "metadata": {},
   "outputs": [
    {
     "name": "stdout",
     "output_type": "stream",
     "text": [
      "0      0\n",
      "1      1\n",
      "2      2\n",
      "3      3\n",
      "4      4\n",
      "5      5\n",
      "6      6\n",
      "7      7\n",
      "8      8\n",
      "9      9\n",
      "10    10\n",
      "11    11\n",
      "12    12\n",
      "13    13\n",
      "14    14\n",
      "15    15\n",
      "16    16\n",
      "17    17\n",
      "18    18\n",
      "19    19\n",
      "dtype: int64\n"
     ]
    }
   ],
   "source": [
    "print(d)"
   ]
  },
  {
   "cell_type": "code",
   "execution_count": 14,
   "metadata": {},
   "outputs": [
    {
     "name": "stdout",
     "output_type": "stream",
     "text": [
      "0       0\n",
      "1       1\n",
      "2       3\n",
      "3       6\n",
      "4      10\n",
      "5      15\n",
      "6      21\n",
      "7      28\n",
      "8      36\n",
      "9      45\n",
      "10     55\n",
      "11     66\n",
      "12     78\n",
      "13     91\n",
      "14    105\n",
      "15    120\n",
      "16    136\n",
      "17    153\n",
      "18    171\n",
      "19    190\n",
      "dtype: int64\n"
     ]
    }
   ],
   "source": [
    "print(d.cumsum())"
   ]
  },
  {
   "cell_type": "markdown",
   "metadata": {},
   "source": [
    "This is for Series type below:"
   ]
  },
  {
   "cell_type": "code",
   "execution_count": 15,
   "metadata": {},
   "outputs": [
    {
     "name": "stdout",
     "output_type": "stream",
     "text": [
      "0    9\n",
      "1    8\n",
      "2    7\n",
      "3    6\n",
      "dtype: int64\n"
     ]
    }
   ],
   "source": [
    "a=pd.Series([9,8,7,6])\n",
    "print(a)"
   ]
  },
  {
   "cell_type": "code",
   "execution_count": 32,
   "metadata": {},
   "outputs": [
    {
     "name": "stdout",
     "output_type": "stream",
     "text": [
      "a    9\n",
      "b    8\n",
      "c    7\n",
      "d    6\n",
      "dtype: int64\n",
      "8\n",
      "8\n",
      "False\n",
      "True\n",
      "100\n"
     ]
    }
   ],
   "source": [
    "b=pd.Series([9,8,7,6],index=['a','b','c','d'])\n",
    "print(b)\n",
    "print(b['b'])\n",
    "print(b[1])\n",
    "print(0 in b)\n",
    "print('c' in b)\n",
    "print(b.get('f',100))#bing bu cunzai f label suoyi fanhui 100"
   ]
  },
  {
   "cell_type": "code",
   "execution_count": 35,
   "metadata": {},
   "outputs": [
    {
     "name": "stdout",
     "output_type": "stream",
     "text": [
      "a    27.0\n",
      "b    28.0\n",
      "c    29.0\n",
      "e     NaN\n",
      "dtype: float64\n",
      " \n",
      "a    25\n",
      "b    25\n",
      "c    25\n",
      "dtype: int64\n"
     ]
    }
   ],
   "source": [
    "s=pd.Series(25,['a','b','c'])\n",
    "k=pd.Series([1,2,3,4],['e','a','b','c'])\n",
    "print(k+s)\n",
    "#series + series ======= sum according to label-index,not dimensions \n",
    "print(\" \")\n",
    "print(s)"
   ]
  },
  {
   "cell_type": "code",
   "execution_count": 19,
   "metadata": {},
   "outputs": [
    {
     "name": "stdout",
     "output_type": "stream",
     "text": [
      "a    9\n",
      "b    8\n",
      "c    7\n",
      "d    6\n",
      "dtype: int64\n"
     ]
    }
   ],
   "source": [
    "d=pd.Series({'a':9,'b':8,'c':7})\n",
    "print(b)"
   ]
  },
  {
   "cell_type": "code",
   "execution_count": 45,
   "metadata": {},
   "outputs": [
    {
     "name": "stdout",
     "output_type": "stream",
     "text": [
      "None\n",
      "index cols\n",
      "c    7.0\n",
      "a    9.0\n",
      "b    8.0\n",
      "d    NaN\n",
      "Name: DIY's series obj, dtype: float64\n",
      "================\n",
      "index cols\n",
      "c      7.0\n",
      "a      9.0\n",
      "b    666.0\n",
      "d      NaN\n",
      "Name: DIY's series obj, dtype: float64\n"
     ]
    }
   ],
   "source": [
    "e=pd.Series({'a':9,'b':8,'c':7},index=['c','a','b','d'])\n",
    "print(e.name)\n",
    "e.name='DIY\\'s series obj'\n",
    "e.index.name='index cols'\n",
    "print(e)\n",
    "print(\"================\")\n",
    "e['b']=666\n",
    "print(e)\n"
   ]
  },
  {
   "cell_type": "code",
   "execution_count": 26,
   "metadata": {},
   "outputs": [
    {
     "name": "stdout",
     "output_type": "stream",
     "text": [
      "0    0\n",
      "1    1\n",
      "2    2\n",
      "3    3\n",
      "4    4\n",
      "dtype: int32\n",
      "9    0\n",
      "8    1\n",
      "7    2\n",
      "6    3\n",
      "5    4\n",
      "dtype: int32\n"
     ]
    }
   ],
   "source": [
    "import numpy as np\n",
    "n=pd.Series(np.arange(5))\n",
    "print(n)\n",
    "m=pd.Series(np.arange(5),index=np.arange(9,4,-1))\n",
    "print(m)"
   ]
  },
  {
   "cell_type": "markdown",
   "metadata": {},
   "source": [
    "# This is test for DataFrame"
   ]
  },
  {
   "cell_type": "code",
   "execution_count": 70,
   "metadata": {},
   "outputs": [
    {
     "name": "stdout",
     "output_type": "stream",
     "text": [
      "会有自动行列索引🐎？\n",
      "   0  1  2  3  4\n",
      "0  0  1  2  3  4\n",
      "1  5  6  7  8  9\n",
      "oh,Yes sir\n",
      "\n",
      "   one  two\n",
      "a  1.0    9\n",
      "b  2.0    8\n",
      "c  3.0    7\n",
      "d  NaN    6\n",
      "d['one']:\n",
      "a    1.0\n",
      "b    2.0\n",
      "c    3.0\n",
      "d    NaN\n",
      "Name: one, dtype: float64\n",
      "d.index[1]\n",
      "b\n",
      "\n",
      "\n",
      "There is an element:\n",
      "2.0\n",
      "\n",
      "\n",
      "\n",
      "one    1.0\n",
      "two    9.0\n",
      "Name: a, dtype: float64\n"
     ]
    },
    {
     "name": "stderr",
     "output_type": "stream",
     "text": [
      "C:\\ProgramData\\Anaconda3\\envs\\cs231n\\lib\\site-packages\\ipykernel_launcher.py:20: DeprecationWarning: \n",
      ".ix is deprecated. Please use\n",
      ".loc for label based indexing or\n",
      ".iloc for positional indexing\n",
      "\n",
      "See the documentation here:\n",
      "http://pandas.pydata.org/pandas-docs/stable/indexing.html#ix-indexer-is-deprecated\n"
     ]
    }
   ],
   "source": [
    "d=pd.DataFrame(np.arange(10).reshape(2,5))\n",
    "print(\"会有自动行列索引🐎？\")\n",
    "print(d) \n",
    "print(\"oh,Yes sir\",end=\"\\n\\n\")\n",
    "\n",
    "\n",
    "dt={'one':pd.Series([1,2,3],index=['a','b','c']),\n",
    "       'two':pd.Series([9,8,7,6],index=['a','b','c','d'])}\n",
    "#字典类型 生成的DataFrame可能无序\n",
    "#print(dt)\n",
    "d=pd.DataFrame(dt)\n",
    "print(d)\n",
    "print(\"d['one']:\")\n",
    "print(d['one'])\n",
    "print(\"d.index[1]\")\n",
    "print(d.index[1])\n",
    "print(\"\\n\\nThere is an element:\")\n",
    "print(d['one'][1])\n",
    "print(\"\\n\\n\")\n",
    "print(d.ix['a'])"
   ]
  },
  {
   "cell_type": "code",
   "execution_count": 55,
   "metadata": {},
   "outputs": [
    {
     "name": "stdout",
     "output_type": "stream",
     "text": [
      "input ur name sir: Van Darkholme\n"
     ]
    }
   ],
   "source": [
    "name=input(\"input ur name sir: \")#test for input"
   ]
  },
  {
   "cell_type": "code",
   "execution_count": 82,
   "metadata": {},
   "outputs": [
    {
     "name": "stdout",
     "output_type": "stream",
     "text": [
      "         city  huanbi  tongbi  dingji\n",
      "c1     Bejing     101      99     111\n",
      "c2   Shanghai     102      98     222\n",
      "c3  Guangzhou     103      97     333\n",
      "c4   shenzhen     104      96     444\n",
      "c5   shenyang     105      95     555\n",
      "\n",
      "\n",
      "\n",
      "         city  huanbi  tongbi  dingji\n",
      "c5   shenyang     105      95     555\n",
      "c4   shenzhen     104      96     444\n",
      "c3  Guangzhou     103      97     333\n",
      "c2   Shanghai     102      98     222\n",
      "c1     Bejing     101      99     111\n",
      "\n",
      "\n",
      "\n",
      "         city  huanbi  tongbi  dingji  New set\n",
      "c5   shenyang     105      95     555      200\n",
      "c4   shenzhen     104      96     444      200\n",
      "c3  Guangzhou     103      97     333      200\n",
      "c2   Shanghai     102      98     222      200\n",
      "c1     Bejing     101      99     111      200\n",
      "\n",
      "\n",
      "\n"
     ]
    }
   ],
   "source": [
    "d1={'city':['Bejing','Shanghai','Guangzhou','shenzhen','shenyang'],\n",
    "   'huanbi':[101,102,103,104,105],\n",
    "   'tongbi':[99,98,97,96,95],\n",
    "   'dingji':[111,222,333,444,555]}\n",
    "d1=pd.DataFrame(d1,index=['c1','c2','c3','c4','c5'])\n",
    "d1.name='A table'\n",
    "print(d1)\n",
    "print(\"\\n\\n\")\n",
    "d1=d1.reindex(index=['c5','c4','c3','c2','c1'])\n",
    "print(d1)\n",
    "print(\"\\n\\n\")\n",
    "newc=d1.columns.insert(4,'New set')\n",
    "newd=d1.reindex(columns=newc,fill_value=200)\n",
    "\n",
    "print(newd)\n",
    "print(\"\\n\\n\")\n",
    "#反正可以用reindex操作索引控制“表格行列，drop可以删除指定行列索引\n"
   ]
  },
  {
   "cell_type": "markdown",
   "metadata": {},
   "source": [
    "运算："
   ]
  },
  {
   "cell_type": "markdown",
   "metadata": {},
   "source": [
    "这个不多说了，比较用到了Broadcast"
   ]
  }
 ],
 "metadata": {
  "kernelspec": {
   "display_name": "Python 3",
   "language": "python",
   "name": "python3"
  },
  "language_info": {
   "codemirror_mode": {
    "name": "ipython",
    "version": 3
   },
   "file_extension": ".py",
   "mimetype": "text/x-python",
   "name": "python",
   "nbconvert_exporter": "python",
   "pygments_lexer": "ipython3",
   "version": "3.6.7"
  }
 },
 "nbformat": 4,
 "nbformat_minor": 2
}
